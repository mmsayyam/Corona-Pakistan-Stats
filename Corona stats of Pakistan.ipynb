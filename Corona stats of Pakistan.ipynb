{
 "cells": [
  {
   "cell_type": "code",
   "execution_count": 1,
   "metadata": {},
   "outputs": [],
   "source": [
    "import requests\n",
    "from bs4 import BeautifulSoup\n",
    "import pandas as pd\n",
    "from datetime import datetime as dt\n",
    "import matplotlib.pyplot as plt\n",
    "import seaborn as sns"
   ]
  },
  {
   "cell_type": "code",
   "execution_count": 2,
   "metadata": {},
   "outputs": [],
   "source": [
    "# making get request of the URL\n",
    "url = requests.get('http://covid.gov.pk/')"
   ]
  },
  {
   "cell_type": "code",
   "execution_count": 3,
   "metadata": {},
   "outputs": [
    {
     "data": {
      "text/html": [
       "<div>\n",
       "<style scoped>\n",
       "    .dataframe tbody tr th:only-of-type {\n",
       "        vertical-align: middle;\n",
       "    }\n",
       "\n",
       "    .dataframe tbody tr th {\n",
       "        vertical-align: top;\n",
       "    }\n",
       "\n",
       "    .dataframe thead th {\n",
       "        text-align: right;\n",
       "    }\n",
       "</style>\n",
       "<table border=\"1\" class=\"dataframe\">\n",
       "  <thead>\n",
       "    <tr style=\"text-align: right;\">\n",
       "      <th></th>\n",
       "      <th>CityNames</th>\n",
       "      <th>CityWiseCounts</th>\n",
       "      <th>Date</th>\n",
       "      <th>Headers</th>\n",
       "      <th>OverallCounts</th>\n",
       "    </tr>\n",
       "  </thead>\n",
       "  <tbody>\n",
       "    <tr>\n",
       "      <th>0</th>\n",
       "      <td>ICT</td>\n",
       "      <td>102</td>\n",
       "      <td>2020-04-09</td>\n",
       "      <td>Recovered</td>\n",
       "      <td>572</td>\n",
       "    </tr>\n",
       "    <tr>\n",
       "      <th>1</th>\n",
       "      <td>Punjab</td>\n",
       "      <td>2,171</td>\n",
       "      <td>2020-04-09</td>\n",
       "      <td>Critical</td>\n",
       "      <td>31</td>\n",
       "    </tr>\n",
       "    <tr>\n",
       "      <th>2</th>\n",
       "      <td>Sindh</td>\n",
       "      <td>1,128</td>\n",
       "      <td>2020-04-09</td>\n",
       "      <td>Deaths</td>\n",
       "      <td>63</td>\n",
       "    </tr>\n",
       "    <tr>\n",
       "      <th>3</th>\n",
       "      <td>KP</td>\n",
       "      <td>560</td>\n",
       "      <td>2020-04-09</td>\n",
       "      <td>Cases (24 HRS)</td>\n",
       "      <td>92</td>\n",
       "    </tr>\n",
       "    <tr>\n",
       "      <th>4</th>\n",
       "      <td>Balochistan</td>\n",
       "      <td>212</td>\n",
       "      <td>2020-04-09</td>\n",
       "      <td>Deaths (24 HRS)</td>\n",
       "      <td>5</td>\n",
       "    </tr>\n",
       "    <tr>\n",
       "      <th>5</th>\n",
       "      <td>AJK</td>\n",
       "      <td>28</td>\n",
       "      <td>2020-04-09</td>\n",
       "      <td>Tests (24 HRS)</td>\n",
       "      <td>2,737</td>\n",
       "    </tr>\n",
       "    <tr>\n",
       "      <th>6</th>\n",
       "      <td>GB</td>\n",
       "      <td>213</td>\n",
       "      <td>2020-04-09</td>\n",
       "      <td>Total Tests</td>\n",
       "      <td>44,896</td>\n",
       "    </tr>\n",
       "  </tbody>\n",
       "</table>\n",
       "</div>"
      ],
      "text/plain": [
       "     CityNames CityWiseCounts        Date          Headers OverallCounts\n",
       "0          ICT            102  2020-04-09        Recovered           572\n",
       "1       Punjab          2,171  2020-04-09         Critical            31\n",
       "2        Sindh          1,128  2020-04-09           Deaths            63\n",
       "3           KP            560  2020-04-09   Cases (24 HRS)            92\n",
       "4  Balochistan            212  2020-04-09  Deaths (24 HRS)             5\n",
       "5          AJK             28  2020-04-09   Tests (24 HRS)         2,737\n",
       "6           GB            213  2020-04-09      Total Tests        44,896"
      ]
     },
     "execution_count": 3,
     "metadata": {},
     "output_type": "execute_result"
    }
   ],
   "source": [
    "# Reading the excel for any previous data\n",
    "raw_file = pd.read_excel('Spreadsheets/Corona Stats of Pakistan.xlsx')\n",
    "raw_file"
   ]
  },
  {
   "cell_type": "code",
   "execution_count": 4,
   "metadata": {},
   "outputs": [
    {
     "data": {
      "text/html": [
       "<div>\n",
       "<style scoped>\n",
       "    .dataframe tbody tr th:only-of-type {\n",
       "        vertical-align: middle;\n",
       "    }\n",
       "\n",
       "    .dataframe tbody tr th {\n",
       "        vertical-align: top;\n",
       "    }\n",
       "\n",
       "    .dataframe thead th {\n",
       "        text-align: right;\n",
       "    }\n",
       "</style>\n",
       "<table border=\"1\" class=\"dataframe\">\n",
       "  <thead>\n",
       "    <tr style=\"text-align: right;\">\n",
       "      <th></th>\n",
       "      <th>CityNames</th>\n",
       "      <th>CityWiseCounts</th>\n",
       "      <th>Date</th>\n",
       "      <th>Headers</th>\n",
       "      <th>OverallCounts</th>\n",
       "    </tr>\n",
       "  </thead>\n",
       "  <tbody>\n",
       "    <tr>\n",
       "      <th>0</th>\n",
       "      <td>ICT</td>\n",
       "      <td>102</td>\n",
       "      <td>2020-04-09</td>\n",
       "      <td>Recovered</td>\n",
       "      <td>572</td>\n",
       "    </tr>\n",
       "    <tr>\n",
       "      <th>1</th>\n",
       "      <td>Punjab</td>\n",
       "      <td>2,171</td>\n",
       "      <td>2020-04-09</td>\n",
       "      <td>Critical</td>\n",
       "      <td>31</td>\n",
       "    </tr>\n",
       "    <tr>\n",
       "      <th>2</th>\n",
       "      <td>Sindh</td>\n",
       "      <td>1,128</td>\n",
       "      <td>2020-04-09</td>\n",
       "      <td>Deaths</td>\n",
       "      <td>63</td>\n",
       "    </tr>\n",
       "    <tr>\n",
       "      <th>3</th>\n",
       "      <td>KP</td>\n",
       "      <td>560</td>\n",
       "      <td>2020-04-09</td>\n",
       "      <td>Cases (24 HRS)</td>\n",
       "      <td>92</td>\n",
       "    </tr>\n",
       "    <tr>\n",
       "      <th>4</th>\n",
       "      <td>Balochistan</td>\n",
       "      <td>212</td>\n",
       "      <td>2020-04-09</td>\n",
       "      <td>Deaths (24 HRS)</td>\n",
       "      <td>5</td>\n",
       "    </tr>\n",
       "    <tr>\n",
       "      <th>5</th>\n",
       "      <td>AJK</td>\n",
       "      <td>28</td>\n",
       "      <td>2020-04-09</td>\n",
       "      <td>Tests (24 HRS)</td>\n",
       "      <td>2,737</td>\n",
       "    </tr>\n",
       "    <tr>\n",
       "      <th>6</th>\n",
       "      <td>GB</td>\n",
       "      <td>213</td>\n",
       "      <td>2020-04-09</td>\n",
       "      <td>Total Tests</td>\n",
       "      <td>44,896</td>\n",
       "    </tr>\n",
       "  </tbody>\n",
       "</table>\n",
       "</div>"
      ],
      "text/plain": [
       "     CityNames CityWiseCounts        Date          Headers OverallCounts\n",
       "0          ICT            102  2020-04-09        Recovered           572\n",
       "1       Punjab          2,171  2020-04-09         Critical            31\n",
       "2        Sindh          1,128  2020-04-09           Deaths            63\n",
       "3           KP            560  2020-04-09   Cases (24 HRS)            92\n",
       "4  Balochistan            212  2020-04-09  Deaths (24 HRS)             5\n",
       "5          AJK             28  2020-04-09   Tests (24 HRS)         2,737\n",
       "6           GB            213  2020-04-09      Total Tests        44,896"
      ]
     },
     "execution_count": 4,
     "metadata": {},
     "output_type": "execute_result"
    }
   ],
   "source": [
    "# making copy of the raw file\n",
    "df_file = raw_file.copy()\n",
    "df_file"
   ]
  },
  {
   "cell_type": "code",
   "execution_count": 5,
   "metadata": {},
   "outputs": [],
   "source": [
    "# getting the content from the URL and then parsing it using the html parser\n",
    "soup = BeautifulSoup(url.content, \"html.parser\")"
   ]
  },
  {
   "cell_type": "code",
   "execution_count": 6,
   "metadata": {},
   "outputs": [],
   "source": [
    "# soup"
   ]
  },
  {
   "cell_type": "code",
   "execution_count": 7,
   "metadata": {},
   "outputs": [
    {
     "name": "stdout",
     "output_type": "stream",
     "text": [
      "[{'Name': 'ConfirmedCases', 'Count': '4,601'}]\n"
     ]
    }
   ],
   "source": [
    "# below for loop finds the h2 heading, which is ConfirmedCases and h1 heading, which is the Count\n",
    "lst = []\n",
    "for g in soup.findAll('div', class_ = 'col-12 col-md-6 wow fadeInUp'):\n",
    "    header_name = g.find('h2')\n",
    "    header_count = g.find('h1')\n",
    "#     print (header_count)\n",
    "    details_pak = {\n",
    "        \"Name\" : header_name.text,\n",
    "        \"Count\" : header_count.text \n",
    "    }\n",
    "    lst.append(details_pak)\n",
    "    \n",
    "print (lst)"
   ]
  },
  {
   "cell_type": "code",
   "execution_count": 8,
   "metadata": {},
   "outputs": [
    {
     "data": {
      "text/html": [
       "<div>\n",
       "<style scoped>\n",
       "    .dataframe tbody tr th:only-of-type {\n",
       "        vertical-align: middle;\n",
       "    }\n",
       "\n",
       "    .dataframe tbody tr th {\n",
       "        vertical-align: top;\n",
       "    }\n",
       "\n",
       "    .dataframe thead th {\n",
       "        text-align: right;\n",
       "    }\n",
       "</style>\n",
       "<table border=\"1\" class=\"dataframe\">\n",
       "  <thead>\n",
       "    <tr style=\"text-align: right;\">\n",
       "      <th></th>\n",
       "      <th>Count</th>\n",
       "      <th>Name</th>\n",
       "    </tr>\n",
       "  </thead>\n",
       "  <tbody>\n",
       "    <tr>\n",
       "      <th>0</th>\n",
       "      <td>4,601</td>\n",
       "      <td>ConfirmedCases</td>\n",
       "    </tr>\n",
       "  </tbody>\n",
       "</table>\n",
       "</div>"
      ],
      "text/plain": [
       "   Count            Name\n",
       "0  4,601  ConfirmedCases"
      ]
     },
     "execution_count": 8,
     "metadata": {},
     "output_type": "execute_result"
    }
   ],
   "source": [
    "# Making the DF from the list created above by the for loop\n",
    "df_total_count = pd.DataFrame(lst)\n",
    "df_total_count"
   ]
  },
  {
   "cell_type": "code",
   "execution_count": 9,
   "metadata": {},
   "outputs": [],
   "source": [
    "# Function to pull the data from specific class\n",
    "lst_column_details = []\n",
    "lst_count_details = []\n",
    "def get_details(a, b, c):\n",
    "#     a = []\n",
    "    for g in soup.findAll('div', class_ = 'col-12 col-md-6 text-center numbers-child wow fadeInUp'):\n",
    "        details = {}\n",
    "        for i in g.findAll(a):\n",
    "            details[b] = i.text\n",
    "            c.append(details[b])\n",
    "    return (c)"
   ]
  },
  {
   "cell_type": "code",
   "execution_count": 10,
   "metadata": {},
   "outputs": [
    {
     "data": {
      "text/plain": [
       "['Recovered',\n",
       " 'Critical',\n",
       " 'Deaths',\n",
       " 'Cases (24 HRS)',\n",
       " 'Deaths (24 HRS)',\n",
       " 'Tests (24 HRS)',\n",
       " 'Total Tests']"
      ]
     },
     "execution_count": 10,
     "metadata": {},
     "output_type": "execute_result"
    }
   ],
   "source": [
    "# Calling the function to pull the headings\n",
    "get_details('h6', 'Columns', lst_column_details)"
   ]
  },
  {
   "cell_type": "code",
   "execution_count": 11,
   "metadata": {},
   "outputs": [
    {
     "data": {
      "text/plain": [
       "['727', '45', '66', '284', '4', '2,478', '54,706']"
      ]
     },
     "execution_count": 11,
     "metadata": {},
     "output_type": "execute_result"
    }
   ],
   "source": [
    "# calling the function to get the counts\n",
    "get_details('h4', 'Counts', lst_count_details)"
   ]
  },
  {
   "cell_type": "code",
   "execution_count": 12,
   "metadata": {},
   "outputs": [],
   "source": [
    "# Function to pull City names and City wise case counts\n",
    "lst_cities = []\n",
    "lst_cases = []\n",
    "def get_citywise_details():\n",
    "    for g in soup.findAll('div', class_='row provinc-stat'):\n",
    "        names = g.findAll('a')\n",
    "        for n in names:\n",
    "            city_names = n.text\n",
    "            dict_city = {\n",
    "                \"City\": city_names\n",
    "            }\n",
    "            print (city_names)\n",
    "            print (dict_city)\n",
    "            lst_cities.append(dict_city)\n",
    "        counts = g.findAll('h4')\n",
    "        for c in counts:\n",
    "            case_counts = c.text\n",
    "            dict_cases = {\n",
    "                \"Counts\": case_counts\n",
    "            }\n",
    "            print (case_counts)\n",
    "            lst_cases.append(dict_cases)"
   ]
  },
  {
   "cell_type": "code",
   "execution_count": 13,
   "metadata": {},
   "outputs": [
    {
     "name": "stdout",
     "output_type": "stream",
     "text": [
      "ICT\n",
      "{'City': 'ICT'}\n",
      "Punjab\n",
      "{'City': 'Punjab'}\n",
      "Sindh\n",
      "{'City': 'Sindh'}\n",
      "KP\n",
      "{'City': 'KP'}\n",
      "Balochistan\n",
      "{'City': 'Balochistan'}\n",
      "AJK\n",
      "{'City': 'AJK'}\n",
      "GB\n",
      "{'City': 'GB'}\n",
      "107\n",
      "2,279\n",
      "1,128\n",
      "620\n",
      "219\n",
      "33\n",
      "215\n"
     ]
    }
   ],
   "source": [
    "# calling the function\n",
    "get_citywise_details()"
   ]
  },
  {
   "cell_type": "code",
   "execution_count": 14,
   "metadata": {},
   "outputs": [
    {
     "name": "stdout",
     "output_type": "stream",
     "text": [
      "[{'City': 'ICT'}, {'City': 'Punjab'}, {'City': 'Sindh'}, {'City': 'KP'}, {'City': 'Balochistan'}, {'City': 'AJK'}, {'City': 'GB'}]\n",
      "[{'Counts': '107'}, {'Counts': '2,279'}, {'Counts': '1,128'}, {'Counts': '620'}, {'Counts': '219'}, {'Counts': '33'}, {'Counts': '215'}]\n"
     ]
    }
   ],
   "source": [
    "print (lst_cities)\n",
    "print (lst_cases)"
   ]
  },
  {
   "cell_type": "code",
   "execution_count": 15,
   "metadata": {},
   "outputs": [],
   "source": [
    "# Creating DF from the lists of city names and city wise counts\n",
    "df_citynames = pd.DataFrame(lst_cities)\n",
    "df_citywise_cases = pd.DataFrame(lst_cases)"
   ]
  },
  {
   "cell_type": "code",
   "execution_count": 16,
   "metadata": {},
   "outputs": [
    {
     "data": {
      "text/html": [
       "<div>\n",
       "<style scoped>\n",
       "    .dataframe tbody tr th:only-of-type {\n",
       "        vertical-align: middle;\n",
       "    }\n",
       "\n",
       "    .dataframe tbody tr th {\n",
       "        vertical-align: top;\n",
       "    }\n",
       "\n",
       "    .dataframe thead th {\n",
       "        text-align: right;\n",
       "    }\n",
       "</style>\n",
       "<table border=\"1\" class=\"dataframe\">\n",
       "  <thead>\n",
       "    <tr style=\"text-align: right;\">\n",
       "      <th></th>\n",
       "      <th>City</th>\n",
       "    </tr>\n",
       "  </thead>\n",
       "  <tbody>\n",
       "    <tr>\n",
       "      <th>0</th>\n",
       "      <td>ICT</td>\n",
       "    </tr>\n",
       "    <tr>\n",
       "      <th>1</th>\n",
       "      <td>Punjab</td>\n",
       "    </tr>\n",
       "    <tr>\n",
       "      <th>2</th>\n",
       "      <td>Sindh</td>\n",
       "    </tr>\n",
       "    <tr>\n",
       "      <th>3</th>\n",
       "      <td>KP</td>\n",
       "    </tr>\n",
       "    <tr>\n",
       "      <th>4</th>\n",
       "      <td>Balochistan</td>\n",
       "    </tr>\n",
       "    <tr>\n",
       "      <th>5</th>\n",
       "      <td>AJK</td>\n",
       "    </tr>\n",
       "    <tr>\n",
       "      <th>6</th>\n",
       "      <td>GB</td>\n",
       "    </tr>\n",
       "  </tbody>\n",
       "</table>\n",
       "</div>"
      ],
      "text/plain": [
       "          City\n",
       "0          ICT\n",
       "1       Punjab\n",
       "2        Sindh\n",
       "3           KP\n",
       "4  Balochistan\n",
       "5          AJK\n",
       "6           GB"
      ]
     },
     "execution_count": 16,
     "metadata": {},
     "output_type": "execute_result"
    }
   ],
   "source": [
    "df_citynames"
   ]
  },
  {
   "cell_type": "code",
   "execution_count": 17,
   "metadata": {},
   "outputs": [
    {
     "data": {
      "text/html": [
       "<div>\n",
       "<style scoped>\n",
       "    .dataframe tbody tr th:only-of-type {\n",
       "        vertical-align: middle;\n",
       "    }\n",
       "\n",
       "    .dataframe tbody tr th {\n",
       "        vertical-align: top;\n",
       "    }\n",
       "\n",
       "    .dataframe thead th {\n",
       "        text-align: right;\n",
       "    }\n",
       "</style>\n",
       "<table border=\"1\" class=\"dataframe\">\n",
       "  <thead>\n",
       "    <tr style=\"text-align: right;\">\n",
       "      <th></th>\n",
       "      <th>Counts</th>\n",
       "    </tr>\n",
       "  </thead>\n",
       "  <tbody>\n",
       "    <tr>\n",
       "      <th>0</th>\n",
       "      <td>107</td>\n",
       "    </tr>\n",
       "    <tr>\n",
       "      <th>1</th>\n",
       "      <td>2,279</td>\n",
       "    </tr>\n",
       "    <tr>\n",
       "      <th>2</th>\n",
       "      <td>1,128</td>\n",
       "    </tr>\n",
       "    <tr>\n",
       "      <th>3</th>\n",
       "      <td>620</td>\n",
       "    </tr>\n",
       "    <tr>\n",
       "      <th>4</th>\n",
       "      <td>219</td>\n",
       "    </tr>\n",
       "    <tr>\n",
       "      <th>5</th>\n",
       "      <td>33</td>\n",
       "    </tr>\n",
       "    <tr>\n",
       "      <th>6</th>\n",
       "      <td>215</td>\n",
       "    </tr>\n",
       "  </tbody>\n",
       "</table>\n",
       "</div>"
      ],
      "text/plain": [
       "  Counts\n",
       "0    107\n",
       "1  2,279\n",
       "2  1,128\n",
       "3    620\n",
       "4    219\n",
       "5     33\n",
       "6    215"
      ]
     },
     "execution_count": 17,
     "metadata": {},
     "output_type": "execute_result"
    }
   ],
   "source": [
    "df_citywise_cases"
   ]
  },
  {
   "cell_type": "code",
   "execution_count": 18,
   "metadata": {},
   "outputs": [
    {
     "data": {
      "text/html": [
       "<div>\n",
       "<style scoped>\n",
       "    .dataframe tbody tr th:only-of-type {\n",
       "        vertical-align: middle;\n",
       "    }\n",
       "\n",
       "    .dataframe tbody tr th {\n",
       "        vertical-align: top;\n",
       "    }\n",
       "\n",
       "    .dataframe thead th {\n",
       "        text-align: right;\n",
       "    }\n",
       "</style>\n",
       "<table border=\"1\" class=\"dataframe\">\n",
       "  <thead>\n",
       "    <tr style=\"text-align: right;\">\n",
       "      <th></th>\n",
       "      <th>ColumnNames</th>\n",
       "    </tr>\n",
       "  </thead>\n",
       "  <tbody>\n",
       "    <tr>\n",
       "      <th>0</th>\n",
       "      <td>Recovered</td>\n",
       "    </tr>\n",
       "    <tr>\n",
       "      <th>1</th>\n",
       "      <td>Critical</td>\n",
       "    </tr>\n",
       "    <tr>\n",
       "      <th>2</th>\n",
       "      <td>Deaths</td>\n",
       "    </tr>\n",
       "    <tr>\n",
       "      <th>3</th>\n",
       "      <td>Cases (24 HRS)</td>\n",
       "    </tr>\n",
       "    <tr>\n",
       "      <th>4</th>\n",
       "      <td>Deaths (24 HRS)</td>\n",
       "    </tr>\n",
       "    <tr>\n",
       "      <th>5</th>\n",
       "      <td>Tests (24 HRS)</td>\n",
       "    </tr>\n",
       "    <tr>\n",
       "      <th>6</th>\n",
       "      <td>Total Tests</td>\n",
       "    </tr>\n",
       "  </tbody>\n",
       "</table>\n",
       "</div>"
      ],
      "text/plain": [
       "       ColumnNames\n",
       "0        Recovered\n",
       "1         Critical\n",
       "2           Deaths\n",
       "3   Cases (24 HRS)\n",
       "4  Deaths (24 HRS)\n",
       "5   Tests (24 HRS)\n",
       "6      Total Tests"
      ]
     },
     "execution_count": 18,
     "metadata": {},
     "output_type": "execute_result"
    }
   ],
   "source": [
    "# Creating DF from the list of h6 headings\n",
    "df_col = pd.DataFrame(lst_column_details, columns=['ColumnNames'])\n",
    "df_col"
   ]
  },
  {
   "cell_type": "code",
   "execution_count": 19,
   "metadata": {},
   "outputs": [
    {
     "data": {
      "text/html": [
       "<div>\n",
       "<style scoped>\n",
       "    .dataframe tbody tr th:only-of-type {\n",
       "        vertical-align: middle;\n",
       "    }\n",
       "\n",
       "    .dataframe tbody tr th {\n",
       "        vertical-align: top;\n",
       "    }\n",
       "\n",
       "    .dataframe thead th {\n",
       "        text-align: right;\n",
       "    }\n",
       "</style>\n",
       "<table border=\"1\" class=\"dataframe\">\n",
       "  <thead>\n",
       "    <tr style=\"text-align: right;\">\n",
       "      <th></th>\n",
       "      <th>Counts</th>\n",
       "    </tr>\n",
       "  </thead>\n",
       "  <tbody>\n",
       "    <tr>\n",
       "      <th>0</th>\n",
       "      <td>727</td>\n",
       "    </tr>\n",
       "    <tr>\n",
       "      <th>1</th>\n",
       "      <td>45</td>\n",
       "    </tr>\n",
       "    <tr>\n",
       "      <th>2</th>\n",
       "      <td>66</td>\n",
       "    </tr>\n",
       "    <tr>\n",
       "      <th>3</th>\n",
       "      <td>284</td>\n",
       "    </tr>\n",
       "    <tr>\n",
       "      <th>4</th>\n",
       "      <td>4</td>\n",
       "    </tr>\n",
       "    <tr>\n",
       "      <th>5</th>\n",
       "      <td>2,478</td>\n",
       "    </tr>\n",
       "    <tr>\n",
       "      <th>6</th>\n",
       "      <td>54,706</td>\n",
       "    </tr>\n",
       "  </tbody>\n",
       "</table>\n",
       "</div>"
      ],
      "text/plain": [
       "   Counts\n",
       "0     727\n",
       "1      45\n",
       "2      66\n",
       "3     284\n",
       "4       4\n",
       "5   2,478\n",
       "6  54,706"
      ]
     },
     "execution_count": 19,
     "metadata": {},
     "output_type": "execute_result"
    }
   ],
   "source": [
    "# Creating DF from the list of Counts for the h6 headings\n",
    "df_counts = pd.DataFrame(lst_count_details, columns=['Counts'])\n",
    "df_counts"
   ]
  },
  {
   "cell_type": "code",
   "execution_count": 20,
   "metadata": {},
   "outputs": [],
   "source": [
    "# Pulling today's time and formating it according to the requirement\n",
    "today = dt.now().strftime(\"%Y-%m-%d\")\n",
    "# today"
   ]
  },
  {
   "cell_type": "code",
   "execution_count": 21,
   "metadata": {},
   "outputs": [
    {
     "data": {
      "text/html": [
       "<div>\n",
       "<style scoped>\n",
       "    .dataframe tbody tr th:only-of-type {\n",
       "        vertical-align: middle;\n",
       "    }\n",
       "\n",
       "    .dataframe tbody tr th {\n",
       "        vertical-align: top;\n",
       "    }\n",
       "\n",
       "    .dataframe thead th {\n",
       "        text-align: right;\n",
       "    }\n",
       "</style>\n",
       "<table border=\"1\" class=\"dataframe\">\n",
       "  <thead>\n",
       "    <tr style=\"text-align: right;\">\n",
       "      <th></th>\n",
       "      <th>City</th>\n",
       "    </tr>\n",
       "  </thead>\n",
       "  <tbody>\n",
       "    <tr>\n",
       "      <th>0</th>\n",
       "      <td>ICT</td>\n",
       "    </tr>\n",
       "    <tr>\n",
       "      <th>1</th>\n",
       "      <td>Punjab</td>\n",
       "    </tr>\n",
       "    <tr>\n",
       "      <th>2</th>\n",
       "      <td>Sindh</td>\n",
       "    </tr>\n",
       "    <tr>\n",
       "      <th>3</th>\n",
       "      <td>KP</td>\n",
       "    </tr>\n",
       "    <tr>\n",
       "      <th>4</th>\n",
       "      <td>Balochistan</td>\n",
       "    </tr>\n",
       "    <tr>\n",
       "      <th>5</th>\n",
       "      <td>AJK</td>\n",
       "    </tr>\n",
       "    <tr>\n",
       "      <th>6</th>\n",
       "      <td>GB</td>\n",
       "    </tr>\n",
       "  </tbody>\n",
       "</table>\n",
       "</div>"
      ],
      "text/plain": [
       "          City\n",
       "0          ICT\n",
       "1       Punjab\n",
       "2        Sindh\n",
       "3           KP\n",
       "4  Balochistan\n",
       "5          AJK\n",
       "6           GB"
      ]
     },
     "execution_count": 21,
     "metadata": {},
     "output_type": "execute_result"
    }
   ],
   "source": [
    "df_citynames"
   ]
  },
  {
   "cell_type": "code",
   "execution_count": 22,
   "metadata": {},
   "outputs": [],
   "source": [
    "# Creating an empty Dataframe\n",
    "df_final = pd.DataFrame()"
   ]
  },
  {
   "cell_type": "code",
   "execution_count": 23,
   "metadata": {},
   "outputs": [],
   "source": [
    "# Filling the above empty frame with the Data\n",
    "df_final['CityNames'] = df_citynames.City\n",
    "df_final['Date'] = today\n",
    "df_final['CityWiseCounts'] = df_citywise_cases.Counts\n",
    "df_final['Headers'] = df_col['ColumnNames']\n",
    "df_final['OverallCounts'] = df_counts['Counts']"
   ]
  },
  {
   "cell_type": "code",
   "execution_count": 24,
   "metadata": {},
   "outputs": [
    {
     "data": {
      "text/html": [
       "<div>\n",
       "<style scoped>\n",
       "    .dataframe tbody tr th:only-of-type {\n",
       "        vertical-align: middle;\n",
       "    }\n",
       "\n",
       "    .dataframe tbody tr th {\n",
       "        vertical-align: top;\n",
       "    }\n",
       "\n",
       "    .dataframe thead th {\n",
       "        text-align: right;\n",
       "    }\n",
       "</style>\n",
       "<table border=\"1\" class=\"dataframe\">\n",
       "  <thead>\n",
       "    <tr style=\"text-align: right;\">\n",
       "      <th></th>\n",
       "      <th>CityNames</th>\n",
       "      <th>Date</th>\n",
       "      <th>CityWiseCounts</th>\n",
       "      <th>Headers</th>\n",
       "      <th>OverallCounts</th>\n",
       "    </tr>\n",
       "  </thead>\n",
       "  <tbody>\n",
       "    <tr>\n",
       "      <th>0</th>\n",
       "      <td>ICT</td>\n",
       "      <td>2020-04-10</td>\n",
       "      <td>107</td>\n",
       "      <td>Recovered</td>\n",
       "      <td>727</td>\n",
       "    </tr>\n",
       "    <tr>\n",
       "      <th>1</th>\n",
       "      <td>Punjab</td>\n",
       "      <td>2020-04-10</td>\n",
       "      <td>2,279</td>\n",
       "      <td>Critical</td>\n",
       "      <td>45</td>\n",
       "    </tr>\n",
       "    <tr>\n",
       "      <th>2</th>\n",
       "      <td>Sindh</td>\n",
       "      <td>2020-04-10</td>\n",
       "      <td>1,128</td>\n",
       "      <td>Deaths</td>\n",
       "      <td>66</td>\n",
       "    </tr>\n",
       "    <tr>\n",
       "      <th>3</th>\n",
       "      <td>KP</td>\n",
       "      <td>2020-04-10</td>\n",
       "      <td>620</td>\n",
       "      <td>Cases (24 HRS)</td>\n",
       "      <td>284</td>\n",
       "    </tr>\n",
       "    <tr>\n",
       "      <th>4</th>\n",
       "      <td>Balochistan</td>\n",
       "      <td>2020-04-10</td>\n",
       "      <td>219</td>\n",
       "      <td>Deaths (24 HRS)</td>\n",
       "      <td>4</td>\n",
       "    </tr>\n",
       "    <tr>\n",
       "      <th>5</th>\n",
       "      <td>AJK</td>\n",
       "      <td>2020-04-10</td>\n",
       "      <td>33</td>\n",
       "      <td>Tests (24 HRS)</td>\n",
       "      <td>2,478</td>\n",
       "    </tr>\n",
       "    <tr>\n",
       "      <th>6</th>\n",
       "      <td>GB</td>\n",
       "      <td>2020-04-10</td>\n",
       "      <td>215</td>\n",
       "      <td>Total Tests</td>\n",
       "      <td>54,706</td>\n",
       "    </tr>\n",
       "  </tbody>\n",
       "</table>\n",
       "</div>"
      ],
      "text/plain": [
       "     CityNames        Date CityWiseCounts          Headers OverallCounts\n",
       "0          ICT  2020-04-10            107        Recovered           727\n",
       "1       Punjab  2020-04-10          2,279         Critical            45\n",
       "2        Sindh  2020-04-10          1,128           Deaths            66\n",
       "3           KP  2020-04-10            620   Cases (24 HRS)           284\n",
       "4  Balochistan  2020-04-10            219  Deaths (24 HRS)             4\n",
       "5          AJK  2020-04-10             33   Tests (24 HRS)         2,478\n",
       "6           GB  2020-04-10            215      Total Tests        54,706"
      ]
     },
     "execution_count": 24,
     "metadata": {},
     "output_type": "execute_result"
    }
   ],
   "source": [
    "df_final"
   ]
  },
  {
   "cell_type": "code",
   "execution_count": null,
   "metadata": {},
   "outputs": [],
   "source": []
  },
  {
   "cell_type": "code",
   "execution_count": 25,
   "metadata": {
    "scrolled": false
   },
   "outputs": [
    {
     "name": "stderr",
     "output_type": "stream",
     "text": [
      "/Users/Muhammad/anaconda3/lib/python3.7/site-packages/pandas/core/frame.py:6692: FutureWarning: Sorting because non-concatenation axis is not aligned. A future version\n",
      "of pandas will change to not sort by default.\n",
      "\n",
      "To accept the future behavior, pass 'sort=False'.\n",
      "\n",
      "To retain the current behavior and silence the warning, pass 'sort=True'.\n",
      "\n",
      "  sort=sort)\n"
     ]
    },
    {
     "data": {
      "text/html": [
       "<div>\n",
       "<style scoped>\n",
       "    .dataframe tbody tr th:only-of-type {\n",
       "        vertical-align: middle;\n",
       "    }\n",
       "\n",
       "    .dataframe tbody tr th {\n",
       "        vertical-align: top;\n",
       "    }\n",
       "\n",
       "    .dataframe thead th {\n",
       "        text-align: right;\n",
       "    }\n",
       "</style>\n",
       "<table border=\"1\" class=\"dataframe\">\n",
       "  <thead>\n",
       "    <tr style=\"text-align: right;\">\n",
       "      <th></th>\n",
       "      <th>index</th>\n",
       "      <th>CityNames</th>\n",
       "      <th>CityWiseCounts</th>\n",
       "      <th>Date</th>\n",
       "      <th>Headers</th>\n",
       "      <th>OverallCounts</th>\n",
       "    </tr>\n",
       "  </thead>\n",
       "  <tbody>\n",
       "    <tr>\n",
       "      <th>0</th>\n",
       "      <td>0</td>\n",
       "      <td>ICT</td>\n",
       "      <td>102</td>\n",
       "      <td>2020-04-09</td>\n",
       "      <td>Recovered</td>\n",
       "      <td>572</td>\n",
       "    </tr>\n",
       "    <tr>\n",
       "      <th>1</th>\n",
       "      <td>1</td>\n",
       "      <td>Punjab</td>\n",
       "      <td>2,171</td>\n",
       "      <td>2020-04-09</td>\n",
       "      <td>Critical</td>\n",
       "      <td>31</td>\n",
       "    </tr>\n",
       "    <tr>\n",
       "      <th>2</th>\n",
       "      <td>2</td>\n",
       "      <td>Sindh</td>\n",
       "      <td>1,128</td>\n",
       "      <td>2020-04-09</td>\n",
       "      <td>Deaths</td>\n",
       "      <td>63</td>\n",
       "    </tr>\n",
       "    <tr>\n",
       "      <th>3</th>\n",
       "      <td>3</td>\n",
       "      <td>KP</td>\n",
       "      <td>560</td>\n",
       "      <td>2020-04-09</td>\n",
       "      <td>Cases (24 HRS)</td>\n",
       "      <td>92</td>\n",
       "    </tr>\n",
       "    <tr>\n",
       "      <th>4</th>\n",
       "      <td>4</td>\n",
       "      <td>Balochistan</td>\n",
       "      <td>212</td>\n",
       "      <td>2020-04-09</td>\n",
       "      <td>Deaths (24 HRS)</td>\n",
       "      <td>5</td>\n",
       "    </tr>\n",
       "    <tr>\n",
       "      <th>5</th>\n",
       "      <td>5</td>\n",
       "      <td>AJK</td>\n",
       "      <td>28</td>\n",
       "      <td>2020-04-09</td>\n",
       "      <td>Tests (24 HRS)</td>\n",
       "      <td>2,737</td>\n",
       "    </tr>\n",
       "    <tr>\n",
       "      <th>6</th>\n",
       "      <td>6</td>\n",
       "      <td>GB</td>\n",
       "      <td>213</td>\n",
       "      <td>2020-04-09</td>\n",
       "      <td>Total Tests</td>\n",
       "      <td>44,896</td>\n",
       "    </tr>\n",
       "    <tr>\n",
       "      <th>7</th>\n",
       "      <td>0</td>\n",
       "      <td>ICT</td>\n",
       "      <td>107</td>\n",
       "      <td>2020-04-10</td>\n",
       "      <td>Recovered</td>\n",
       "      <td>727</td>\n",
       "    </tr>\n",
       "    <tr>\n",
       "      <th>8</th>\n",
       "      <td>1</td>\n",
       "      <td>Punjab</td>\n",
       "      <td>2,279</td>\n",
       "      <td>2020-04-10</td>\n",
       "      <td>Critical</td>\n",
       "      <td>45</td>\n",
       "    </tr>\n",
       "    <tr>\n",
       "      <th>9</th>\n",
       "      <td>2</td>\n",
       "      <td>Sindh</td>\n",
       "      <td>1,128</td>\n",
       "      <td>2020-04-10</td>\n",
       "      <td>Deaths</td>\n",
       "      <td>66</td>\n",
       "    </tr>\n",
       "    <tr>\n",
       "      <th>10</th>\n",
       "      <td>3</td>\n",
       "      <td>KP</td>\n",
       "      <td>620</td>\n",
       "      <td>2020-04-10</td>\n",
       "      <td>Cases (24 HRS)</td>\n",
       "      <td>284</td>\n",
       "    </tr>\n",
       "    <tr>\n",
       "      <th>11</th>\n",
       "      <td>4</td>\n",
       "      <td>Balochistan</td>\n",
       "      <td>219</td>\n",
       "      <td>2020-04-10</td>\n",
       "      <td>Deaths (24 HRS)</td>\n",
       "      <td>4</td>\n",
       "    </tr>\n",
       "    <tr>\n",
       "      <th>12</th>\n",
       "      <td>5</td>\n",
       "      <td>AJK</td>\n",
       "      <td>33</td>\n",
       "      <td>2020-04-10</td>\n",
       "      <td>Tests (24 HRS)</td>\n",
       "      <td>2,478</td>\n",
       "    </tr>\n",
       "    <tr>\n",
       "      <th>13</th>\n",
       "      <td>6</td>\n",
       "      <td>GB</td>\n",
       "      <td>215</td>\n",
       "      <td>2020-04-10</td>\n",
       "      <td>Total Tests</td>\n",
       "      <td>54,706</td>\n",
       "    </tr>\n",
       "  </tbody>\n",
       "</table>\n",
       "</div>"
      ],
      "text/plain": [
       "    index    CityNames CityWiseCounts        Date          Headers  \\\n",
       "0       0          ICT            102  2020-04-09        Recovered   \n",
       "1       1       Punjab          2,171  2020-04-09         Critical   \n",
       "2       2        Sindh          1,128  2020-04-09           Deaths   \n",
       "3       3           KP            560  2020-04-09   Cases (24 HRS)   \n",
       "4       4  Balochistan            212  2020-04-09  Deaths (24 HRS)   \n",
       "5       5          AJK             28  2020-04-09   Tests (24 HRS)   \n",
       "6       6           GB            213  2020-04-09      Total Tests   \n",
       "7       0          ICT            107  2020-04-10        Recovered   \n",
       "8       1       Punjab          2,279  2020-04-10         Critical   \n",
       "9       2        Sindh          1,128  2020-04-10           Deaths   \n",
       "10      3           KP            620  2020-04-10   Cases (24 HRS)   \n",
       "11      4  Balochistan            219  2020-04-10  Deaths (24 HRS)   \n",
       "12      5          AJK             33  2020-04-10   Tests (24 HRS)   \n",
       "13      6           GB            215  2020-04-10      Total Tests   \n",
       "\n",
       "   OverallCounts  \n",
       "0            572  \n",
       "1             31  \n",
       "2             63  \n",
       "3             92  \n",
       "4              5  \n",
       "5          2,737  \n",
       "6         44,896  \n",
       "7            727  \n",
       "8             45  \n",
       "9             66  \n",
       "10           284  \n",
       "11             4  \n",
       "12         2,478  \n",
       "13        54,706  "
      ]
     },
     "execution_count": 25,
     "metadata": {},
     "output_type": "execute_result"
    }
   ],
   "source": [
    "# Appending the raw file's data frame with the newly created dataframe and also resetting the index\n",
    "df_file = df_file.append(df_final).reset_index()\n",
    "df_file"
   ]
  },
  {
   "cell_type": "code",
   "execution_count": 26,
   "metadata": {},
   "outputs": [],
   "source": [
    "df_file.Date = df_file.Date.astype(str)\n",
    "# df_final.Date"
   ]
  },
  {
   "cell_type": "code",
   "execution_count": 27,
   "metadata": {},
   "outputs": [],
   "source": [
    "df_file.Date = df_file.Date.str.replace(' 00:00:00', '')\n",
    "# df_final.Date"
   ]
  },
  {
   "cell_type": "code",
   "execution_count": 28,
   "metadata": {},
   "outputs": [],
   "source": [
    "df_file.drop(columns=['index'], inplace=True)"
   ]
  },
  {
   "cell_type": "code",
   "execution_count": 29,
   "metadata": {},
   "outputs": [
    {
     "data": {
      "text/html": [
       "<div>\n",
       "<style scoped>\n",
       "    .dataframe tbody tr th:only-of-type {\n",
       "        vertical-align: middle;\n",
       "    }\n",
       "\n",
       "    .dataframe tbody tr th {\n",
       "        vertical-align: top;\n",
       "    }\n",
       "\n",
       "    .dataframe thead th {\n",
       "        text-align: right;\n",
       "    }\n",
       "</style>\n",
       "<table border=\"1\" class=\"dataframe\">\n",
       "  <thead>\n",
       "    <tr style=\"text-align: right;\">\n",
       "      <th></th>\n",
       "      <th>CityNames</th>\n",
       "      <th>CityWiseCounts</th>\n",
       "      <th>Date</th>\n",
       "      <th>Headers</th>\n",
       "      <th>OverallCounts</th>\n",
       "    </tr>\n",
       "  </thead>\n",
       "  <tbody>\n",
       "    <tr>\n",
       "      <th>0</th>\n",
       "      <td>ICT</td>\n",
       "      <td>102</td>\n",
       "      <td>2020-04-09</td>\n",
       "      <td>Recovered</td>\n",
       "      <td>572</td>\n",
       "    </tr>\n",
       "    <tr>\n",
       "      <th>1</th>\n",
       "      <td>Punjab</td>\n",
       "      <td>2,171</td>\n",
       "      <td>2020-04-09</td>\n",
       "      <td>Critical</td>\n",
       "      <td>31</td>\n",
       "    </tr>\n",
       "    <tr>\n",
       "      <th>2</th>\n",
       "      <td>Sindh</td>\n",
       "      <td>1,128</td>\n",
       "      <td>2020-04-09</td>\n",
       "      <td>Deaths</td>\n",
       "      <td>63</td>\n",
       "    </tr>\n",
       "    <tr>\n",
       "      <th>3</th>\n",
       "      <td>KP</td>\n",
       "      <td>560</td>\n",
       "      <td>2020-04-09</td>\n",
       "      <td>Cases (24 HRS)</td>\n",
       "      <td>92</td>\n",
       "    </tr>\n",
       "    <tr>\n",
       "      <th>4</th>\n",
       "      <td>Balochistan</td>\n",
       "      <td>212</td>\n",
       "      <td>2020-04-09</td>\n",
       "      <td>Deaths (24 HRS)</td>\n",
       "      <td>5</td>\n",
       "    </tr>\n",
       "    <tr>\n",
       "      <th>5</th>\n",
       "      <td>AJK</td>\n",
       "      <td>28</td>\n",
       "      <td>2020-04-09</td>\n",
       "      <td>Tests (24 HRS)</td>\n",
       "      <td>2,737</td>\n",
       "    </tr>\n",
       "    <tr>\n",
       "      <th>6</th>\n",
       "      <td>GB</td>\n",
       "      <td>213</td>\n",
       "      <td>2020-04-09</td>\n",
       "      <td>Total Tests</td>\n",
       "      <td>44,896</td>\n",
       "    </tr>\n",
       "    <tr>\n",
       "      <th>7</th>\n",
       "      <td>ICT</td>\n",
       "      <td>107</td>\n",
       "      <td>2020-04-10</td>\n",
       "      <td>Recovered</td>\n",
       "      <td>727</td>\n",
       "    </tr>\n",
       "    <tr>\n",
       "      <th>8</th>\n",
       "      <td>Punjab</td>\n",
       "      <td>2,279</td>\n",
       "      <td>2020-04-10</td>\n",
       "      <td>Critical</td>\n",
       "      <td>45</td>\n",
       "    </tr>\n",
       "    <tr>\n",
       "      <th>9</th>\n",
       "      <td>Sindh</td>\n",
       "      <td>1,128</td>\n",
       "      <td>2020-04-10</td>\n",
       "      <td>Deaths</td>\n",
       "      <td>66</td>\n",
       "    </tr>\n",
       "    <tr>\n",
       "      <th>10</th>\n",
       "      <td>KP</td>\n",
       "      <td>620</td>\n",
       "      <td>2020-04-10</td>\n",
       "      <td>Cases (24 HRS)</td>\n",
       "      <td>284</td>\n",
       "    </tr>\n",
       "    <tr>\n",
       "      <th>11</th>\n",
       "      <td>Balochistan</td>\n",
       "      <td>219</td>\n",
       "      <td>2020-04-10</td>\n",
       "      <td>Deaths (24 HRS)</td>\n",
       "      <td>4</td>\n",
       "    </tr>\n",
       "    <tr>\n",
       "      <th>12</th>\n",
       "      <td>AJK</td>\n",
       "      <td>33</td>\n",
       "      <td>2020-04-10</td>\n",
       "      <td>Tests (24 HRS)</td>\n",
       "      <td>2,478</td>\n",
       "    </tr>\n",
       "    <tr>\n",
       "      <th>13</th>\n",
       "      <td>GB</td>\n",
       "      <td>215</td>\n",
       "      <td>2020-04-10</td>\n",
       "      <td>Total Tests</td>\n",
       "      <td>54,706</td>\n",
       "    </tr>\n",
       "  </tbody>\n",
       "</table>\n",
       "</div>"
      ],
      "text/plain": [
       "      CityNames CityWiseCounts        Date          Headers OverallCounts\n",
       "0           ICT            102  2020-04-09        Recovered           572\n",
       "1        Punjab          2,171  2020-04-09         Critical            31\n",
       "2         Sindh          1,128  2020-04-09           Deaths            63\n",
       "3            KP            560  2020-04-09   Cases (24 HRS)            92\n",
       "4   Balochistan            212  2020-04-09  Deaths (24 HRS)             5\n",
       "5           AJK             28  2020-04-09   Tests (24 HRS)         2,737\n",
       "6            GB            213  2020-04-09      Total Tests        44,896\n",
       "7           ICT            107  2020-04-10        Recovered           727\n",
       "8        Punjab          2,279  2020-04-10         Critical            45\n",
       "9         Sindh          1,128  2020-04-10           Deaths            66\n",
       "10           KP            620  2020-04-10   Cases (24 HRS)           284\n",
       "11  Balochistan            219  2020-04-10  Deaths (24 HRS)             4\n",
       "12          AJK             33  2020-04-10   Tests (24 HRS)         2,478\n",
       "13           GB            215  2020-04-10      Total Tests        54,706"
      ]
     },
     "execution_count": 29,
     "metadata": {},
     "output_type": "execute_result"
    }
   ],
   "source": [
    "df_file.head(14)"
   ]
  },
  {
   "cell_type": "code",
   "execution_count": 30,
   "metadata": {},
   "outputs": [],
   "source": [
    "# getting city wise date and counts and assigning to variables\n",
    "ict = df_file.loc[df_file['CityNames'] == 'ICT', ['CityWiseCounts', 'Date']]\n",
    "punjab = df_file.loc[df_file['CityNames'] == 'Punjab', ['CityWiseCounts', 'Date']]\n",
    "sindh = df_file.loc[df_file['CityNames'] == 'Sindh', ['CityWiseCounts', 'Date']]\n",
    "kp = df_file.loc[df_file['CityNames'] == 'KP', ['CityWiseCounts', 'Date']]\n",
    "balochistan = df_file.loc[df_file['CityNames'] == 'Balochistan', ['CityWiseCounts', 'Date']]\n",
    "ajk = df_file.loc[df_file['CityNames'] == 'AJK', ['CityWiseCounts', 'Date']]\n",
    "gb = df_file.loc[df_file['CityNames'] == 'GB', ['CityWiseCounts', 'Date']]"
   ]
  },
  {
   "cell_type": "code",
   "execution_count": 31,
   "metadata": {
    "scrolled": false
   },
   "outputs": [
    {
     "data": {
      "image/png": "[encoded data removed]",
      "text/plain": [
       "<Figure size 720x432 with 1 Axes>"
      ]
     },
     "metadata": {
      "needs_background": "light"
     },
     "output_type": "display_data"
    }
   ],
   "source": [
    "import matplotlib.pyplot as plt\n",
    "fig = plt.figure(figsize=(10, 6))\n",
    "plt.bar(df_file.OverallCounts,df_file.Headers)\n",
    "plt.show()"
   ]
  },
  {
   "cell_type": "code",
   "execution_count": 32,
   "metadata": {},
   "outputs": [
    {
     "data": {
      "text/plain": [
       "<matplotlib.axes._subplots.AxesSubplot at 0x1a1eebc6d8>"
      ]
     },
     "execution_count": 32,
     "metadata": {},
     "output_type": "execute_result"
    },
    {
     "data": {
      "image/png": "[encoded data removed]",
      "text/plain": [
       "<Figure size 720x360 with 1 Axes>"
      ]
     },
     "metadata": {
      "needs_background": "light"
     },
     "output_type": "display_data"
    }
   ],
   "source": [
    "plt.figure(figsize=(10, 5))\n",
    "sns.countplot(x=\"OverallCounts\", data=df_file, hue='Date')"
   ]
  },
  {
   "cell_type": "code",
   "execution_count": 33,
   "metadata": {},
   "outputs": [
    {
     "data": {
      "text/plain": [
       "<function matplotlib.pyplot.show(*args, **kw)>"
      ]
     },
     "execution_count": 33,
     "metadata": {},
     "output_type": "execute_result"
    },
    {
     "data": {
      "image/png": "[encoded data removed]",
      "text/plain": [
       "<Figure size 720x288 with 2 Axes>"
      ]
     },
     "metadata": {
      "needs_background": "light"
     },
     "output_type": "display_data"
    }
   ],
   "source": [
    "plt.figure(figsize = (10, 4))\n",
    "\n",
    "plt.subplot (1,2,1)\n",
    "\n",
    "plt.bar(ict.Date, ict.CityWiseCounts)\n",
    "plt.title('ICT')\n",
    "\n",
    "plt.subplot (1,2,2)\n",
    "plt.bar(punjab.Date, punjab.CityWiseCounts)\n",
    "plt.title('Punjab')\n",
    "\n",
    "plt.show"
   ]
  },
  {
   "cell_type": "code",
   "execution_count": 34,
   "metadata": {},
   "outputs": [
    {
     "data": {
      "image/png": "[encoded data removed]",
      "text/plain": [
       "<Figure size 720x288 with 2 Axes>"
      ]
     },
     "metadata": {
      "needs_background": "light"
     },
     "output_type": "display_data"
    }
   ],
   "source": [
    "plt.figure(figsize = (10, 4))\n",
    "plt.subplot (1,2,1)\n",
    "plt.bar(sindh.Date, sindh.CityWiseCounts)\n",
    "plt.title('Sindh')\n",
    "\n",
    "plt.subplot(1,2,2)\n",
    "plt.bar(kp.Date, kp.CityWiseCounts)\n",
    "plt.title('KP')\n",
    "plt.show()"
   ]
  },
  {
   "cell_type": "code",
   "execution_count": 35,
   "metadata": {},
   "outputs": [
    {
     "data": {
      "text/plain": [
       "<function matplotlib.pyplot.show(*args, **kw)>"
      ]
     },
     "execution_count": 35,
     "metadata": {},
     "output_type": "execute_result"
    },
    {
     "data": {
      "image/png": "[encoded data removed]",
      "text/plain": [
       "<Figure size 720x288 with 2 Axes>"
      ]
     },
     "metadata": {
      "needs_background": "light"
     },
     "output_type": "display_data"
    }
   ],
   "source": [
    "plt.figure(figsize = (10, 4))\n",
    "\n",
    "plt.subplot (1,2,1)\n",
    "\n",
    "plt.bar(balochistan.Date, balochistan.CityWiseCounts)\n",
    "plt.title('Balochistan')\n",
    "\n",
    "plt.subplot (1,2,2)\n",
    "plt.bar(ajk.Date, ajk.CityWiseCounts)\n",
    "plt.title('AJK')\n",
    "\n",
    "plt.show"
   ]
  },
  {
   "cell_type": "code",
   "execution_count": 36,
   "metadata": {},
   "outputs": [
    {
     "data": {
      "image/png": "[encoded data removed]",
      "text/plain": [
       "<Figure size 720x288 with 1 Axes>"
      ]
     },
     "metadata": {
      "needs_background": "light"
     },
     "output_type": "display_data"
    }
   ],
   "source": [
    "plt.figure(figsize = (10, 4))\n",
    "\n",
    "plt.subplot (1,2,1)\n",
    "\n",
    "plt.bar(gb.Date, gb.CityWiseCounts)\n",
    "plt.title('GB')\n",
    "\n",
    "plt.show()"
   ]
  },
  {
   "cell_type": "code",
   "execution_count": 37,
   "metadata": {},
   "outputs": [],
   "source": [
    "df_file.to_excel('Spreadsheets/Corona Stats of Pakistan.xlsx', index=False)"
   ]
  },
  {
   "cell_type": "code",
   "execution_count": null,
   "metadata": {},
   "outputs": [],
   "source": []
  }
 ],
 "metadata": {
  "kernelspec": {
   "display_name": "Python 3",
   "language": "python",
   "name": "python3"
  },
  "language_info": {
   "codemirror_mode": {
    "name": "ipython",
    "version": 3
   },
   "file_extension": ".py",
   "mimetype": "text/x-python",
   "name": "python",
   "nbconvert_exporter": "python",
   "pygments_lexer": "ipython3",
   "version": "3.7.3"
  }
 },
 "nbformat": 4,
 "nbformat_minor": 2
}
